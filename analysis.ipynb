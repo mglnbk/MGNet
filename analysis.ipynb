{
 "cells": [
  {
   "cell_type": "code",
   "execution_count": null,
   "metadata": {},
   "outputs": [],
   "source": [
    "import tensorflow as tf\n",
    "from keras.metrics import AUC\n",
    "from keras.callbacks import LearningRateScheduler, EarlyStopping\n",
    "from keras.metrics import Precision, Recall\n",
    "from keras.losses import BinaryCrossentropy\n",
    "import datetime\n",
    "from model.nn import multichannel_network\n",
    "from model.data import Dataset, DataGenerator\n",
    "from sklearn.utils import class_weight\n",
    "import numpy as np\n",
    "\n",
    "tf.random.set_seed(42)\n",
    "# Dataset Setting: \n",
    "## choose from ['methylation', 'gene_expression', 'cnv', 'mutation']\n",
    "FEATURE = ['gene_expression', 'cnv', 'methylation', 'mutation']\n",
    "ds = Dataset(\n",
    "    feature_contained=FEATURE, \n",
    "    dataset='CTRP', \n",
    "    set_label=True, \n",
    "    response='AUC', \n",
    "    threshold=.58)\n",
    "# CTRP, \"AUC\", 0.58, 0.001\n",
    "# GDSC, \"AUC\", .88, 0.001\n",
    "# model parameters settings\n",
    "lr_rate = 0.001\n",
    "dropout_rate = .5\n",
    "batch_size = 64\n",
    "epochs = 2 \n",
    "\n",
    "# Split train, test and validation set for training and testing, build generators\n",
    "partition = ds.split(validation=True)\n",
    "train = partition['train']\n",
    "test = partition['test']\n",
    "validation = partition['validation']\n",
    "train_generator = DataGenerator(sample_barcode=train, **ds.get_config(), batch_size=batch_size)\n",
    "validation_generator = DataGenerator(sample_barcode=validation, **ds.get_config(), batch_size=batch_size)\n",
    "test_generator = DataGenerator(sample_barcode=test, **ds.get_config(), batch_size=batch_size)\n",
    "\n",
    "# Training parameters\n",
    "class_weights = class_weight.compute_class_weight(class_weight='balanced',\n",
    "                                                 classes=np.unique([ds.labels[x] for x in train]),\n",
    "                                                 y=[ds.labels[x] for x in train])\n",
    "weights_dict = {i:w for i,w in enumerate(class_weights)}\n",
    "log_dir = \"logs/fit/\" + datetime.datetime.now().strftime(\"%Y%m%d-%H%M%S\")\n",
    "tensorboard_callback = tf.keras.callbacks.TensorBoard(log_dir=log_dir, histogram_freq=1)\n",
    "def scheduler(epoch, lr):\n",
    "    if(epoch % 5 ==0 and epoch !=0):\n",
    "        return lr*0.1\n",
    "    else:\n",
    "        return lr\n",
    "reduce_lr = LearningRateScheduler(scheduler)\n",
    "# reduce_lr = ReduceLROnPlateau(monitor='val_loss', factor=0.2,\n",
    "#                               patience=5, min_lr=0.001)\n",
    "early_stop = EarlyStopping(monitor='val_loss', patience=10)\n",
    "\n",
    "\n",
    "# model building\n",
    "model = multichannel_network(\n",
    "    dataset=ds,\n",
    "    train_sample_barcode=train,\n",
    "    dropout=dropout_rate\n",
    "    )\n",
    "\n",
    "model.compile(optimizer=tf.keras.optimizers.Adam(learning_rate=lr_rate),\n",
    "              loss=BinaryCrossentropy(),\n",
    "              metrics=\n",
    "              [\n",
    "                Precision(name=\"precision\"),\n",
    "                Recall(name=\"recall\"),\n",
    "                AUC(curve='ROC'),\n",
    "                AUC(curve='PR')\n",
    "              ]\n",
    "            )\n",
    "\n",
    "history = model.fit(\n",
    "    x=train_generator, \n",
    "    epochs=epochs,\n",
    "    validation_data=validation_generator, \n",
    "    callbacks=[reduce_lr, early_stop],\n",
    "    class_weight=weights_dict\n",
    "                    )\n",
    "\n",
    "scores = model.evaluate(x=test_generator) \n",
    "print(list(scores))\n"
   ]
  },
  {
   "cell_type": "code",
   "execution_count": null,
   "metadata": {},
   "outputs": [],
   "source": [
    "def make_predict(model, candidate, ds, batch_size):\n",
    "    \"\"\"\n",
    "\n",
    "    Args:\n",
    "        candidate (list): list[\"CELLINE_DRUG\"]\n",
    "        ds (Dataset): Dataset Object\n",
    "    \"\"\"\n",
    "    celline_candidate = [i.split('_')[0] for i in candidate]\n",
    "    drug_candidate = [i.split('_')[1] for i in candidate]\n",
    "    feature = {}\n",
    "    for i in ds.feature_contained:\n",
    "        if i == \"cnv\":\n",
    "            feature['cnv'] = ds.omics_data['cnv'].loc[celline_candidate].values.astype(np.float32)\n",
    "        elif i == \"gene_expression\":\n",
    "            feature['gene_expression'] = ds.omics_data['gene_expression'].loc[celline_candidate].values.astype(np.float32)\n",
    "        elif i == \"mutation\":\n",
    "            feature['mutation'] = ds.omics_data['mutation'].loc[celline_candidate].values.astype(np.float32)\n",
    "        elif i == \"methylation\":\n",
    "            feature['methylation'] = ds.omics_data['methylation'].loc[celline_candidate].values.astype(np.float32)\n",
    "    feature['fingerprint'] = ds.drug_info.drug_feature['fingerprint'].loc[drug_candidate].values.astype(np.float32)\n",
    "    feature['rdkit2d'] = ds.drug_info.drug_feature['rdkit2d'].loc[drug_candidate].values.astype(np.float32)\n",
    "    chunks = []\n",
    "\n",
    "    for i in range(0, len(candidate), batch_size):\n",
    "        x = i\n",
    "        chunks.append({\n",
    "            'cnv': feature['cnv'][x:x+batch_size],\n",
    "            'gene_expression': feature['gene_expression'][x:x+batch_size],\n",
    "            'methylation': feature['methylation'][x:x+batch_size],\n",
    "            'mutation': feature['mutation'][x:x+batch_size],\n",
    "            'fingerprint': feature['fingerprint'][x:x+batch_size],\n",
    "            'rdkit2d': feature['rdkit2d'][x:x+batch_size]\n",
    "        })\n",
    "    # last chunk\n",
    "    if len(candidate) % batch_size != 0:\n",
    "        last_chunk = {}\n",
    "        leftover = len(candidate) % batch_size\n",
    "        for i,j in feature.items():\n",
    "            last_chunk[i] = np.zeros(shape=(batch_size, j.shape[1]))\n",
    "            last_chunk[i][0:leftover] = j[-leftover::]\n",
    "        chunks = chunks[:-1]\n",
    "        chunks.append(last_chunk)\n",
    "    result = []\n",
    "\n",
    "    for idx, i in enumerate(chunks):\n",
    "        print(f\"{idx}/{len(chunks)}\")\n",
    "        result.append(model(i))\n",
    "    print(result)\n",
    "    result = np.concatenate(result, axis=-2)\n",
    "    result = result[0:len(candidate)]\n",
    "    import pandas as pd\n",
    "    df = pd.DataFrame(data=result, columns=['Sensitivity'])\n",
    "    df['DRUG_NAME'] = drug_candidate\n",
    "    df['CELL_LINE'] = celline_candidate\n",
    "    return df"
   ]
  },
  {
   "attachments": {},
   "cell_type": "markdown",
   "metadata": {},
   "source": [
    "# ANALYSIS"
   ]
  },
  {
   "cell_type": "code",
   "execution_count": null,
   "metadata": {},
   "outputs": [],
   "source": [
    "import pandas as pd\n",
    "import seaborn as sns\n",
    "import numpy as np\n",
    "import matplotlib.pyplot as plt"
   ]
  },
  {
   "attachments": {},
   "cell_type": "markdown",
   "metadata": {},
   "source": [
    "## GDSC and CTRPv2 Basic Statistics"
   ]
  },
  {
   "attachments": {},
   "cell_type": "markdown",
   "metadata": {},
   "source": [
    "CTRP AUC Histogram"
   ]
  },
  {
   "cell_type": "code",
   "execution_count": null,
   "metadata": {},
   "outputs": [],
   "source": [
    "sns.histplot(data=ds.response['AUC'])"
   ]
  },
  {
   "attachments": {},
   "cell_type": "markdown",
   "metadata": {},
   "source": [
    "## AUC, AUPRC and Confusion Matrix over test dataset"
   ]
  },
  {
   "cell_type": "code",
   "execution_count": null,
   "metadata": {},
   "outputs": [],
   "source": [
    "pred_df = make_predict(model=model, candidate=test, ds=ds, batch_size=64)"
   ]
  },
  {
   "cell_type": "code",
   "execution_count": null,
   "metadata": {},
   "outputs": [],
   "source": [
    "test[-1]"
   ]
  },
  {
   "cell_type": "code",
   "execution_count": null,
   "metadata": {},
   "outputs": [],
   "source": [
    "pred_df['true_labels'] = [ds.labels[i] for i in test]"
   ]
  },
  {
   "cell_type": "code",
   "execution_count": null,
   "metadata": {},
   "outputs": [],
   "source": [
    "pred_df.rename(columns={\"AUC_predicted\": \"Sensitivity\"}, inplace=True)"
   ]
  },
  {
   "cell_type": "code",
   "execution_count": null,
   "metadata": {},
   "outputs": [],
   "source": [
    "pred_df['pred_labels'] = [1 if i>0.5 else 0 for i in pred_df['AUC_predicted']]"
   ]
  },
  {
   "cell_type": "code",
   "execution_count": null,
   "metadata": {},
   "outputs": [],
   "source": [
    "from sklearn.metrics import ConfusionMatrixDisplay, RocCurveDisplay, PrecisionRecallDisplay\n",
    "from sklearn.metrics import confusion_matrix\n",
    "\n",
    "cm = confusion_matrix(y_true=list(pred_df['true_labels']), y_pred=list(pred_df['pred_labels']))\n",
    "disp=ConfusionMatrixDisplay(confusion_matrix=cm, display_labels=[0,1])\n",
    "disp.plot(cmap=plt.cm.Blues)\n"
   ]
  },
  {
   "cell_type": "code",
   "execution_count": null,
   "metadata": {},
   "outputs": [],
   "source": [
    "RocCurveDisplay.from_predictions(y_true=list(pred_df['true_labels']), y_pred=list(pred_df['Sensitivity']),)"
   ]
  },
  {
   "cell_type": "code",
   "execution_count": null,
   "metadata": {},
   "outputs": [],
   "source": [
    "PrecisionRecallDisplay.from_predictions(y_true=list(pred_df['true_labels']), y_pred=list(pred_df['Sensitivity']),)"
   ]
  },
  {
   "attachments": {},
   "cell_type": "markdown",
   "metadata": {},
   "source": [
    "## Predicted Scores Comparison between sensitive and insensitive drugs"
   ]
  },
  {
   "cell_type": "code",
   "execution_count": null,
   "metadata": {},
   "outputs": [],
   "source": [
    "sns.violinplot(data=pred_df, x=\"true_labels\", y=\"Sensitivity\")"
   ]
  },
  {
   "attachments": {},
   "cell_type": "markdown",
   "metadata": {},
   "source": [
    "## Test Cancer(Lung, Colon, Breast, Stomach) Across drug types "
   ]
  },
  {
   "attachments": {},
   "cell_type": "markdown",
   "metadata": {},
   "source": [
    "Find all cellines related to Colon Cancer"
   ]
  },
  {
   "cell_type": "code",
   "execution_count": null,
   "metadata": {},
   "outputs": [],
   "source": [
    "model_list = pd.read_csv('data/raw_data/model_list_20230307.csv')\n",
    "lung_ccl = model_list[(model_list['tissue'] == 'Lung') & \n",
    "                (model_list['tissue_status'] == 'Tumour')]['model_name']\n",
    "breast_ccl = model_list[(model_list['tissue'] == 'Breast') & \n",
    "                (model_list['tissue_status'] == 'Tumour')]['model_name']\n",
    "colo_ccl = model_list[((model_list['tissue'] == 'Small Intestine') | (model_list['tissue'] == 'Large Intestine')) & \n",
    "                (model_list['tissue_status'] == 'Tumour')]['model_name']\n",
    "stomach_ccl = model_list[(model_list['tissue'] == 'Stomach') & \n",
    "                (model_list['tissue_status'] == 'Tumour')]['model_name']\n"
   ]
  },
  {
   "cell_type": "code",
   "execution_count": null,
   "metadata": {},
   "outputs": [],
   "source": [
    "celline_barcode = set(ds.celline_barcode)\n",
    "colo_ccl = set(colo_ccl).intersection(celline_barcode)\n",
    "lung_ccl = set(lung_ccl).intersection(celline_barcode)\n",
    "breast_ccl = set(breast_ccl).intersection(celline_barcode)\n",
    "stomach_ccl = set(stomach_ccl).intersection(celline_barcode)\n",
    "drug_candidate = set(ds.drug_info.all_drugs.index).difference(set(ds.processed_experiment['DRUG_NAME']))"
   ]
  },
  {
   "cell_type": "code",
   "execution_count": null,
   "metadata": {},
   "outputs": [],
   "source": [
    "import itertools\n",
    "l = {\"colo\": colo_ccl, \"lung\": lung_ccl, \"breast\": breast_ccl, \"stomach\": stomach_ccl}\n",
    "experiment_candidate_dict = {name:itertools.product(i, drug_candidate) for name, i in l.items()}\n",
    "for name, itm in experiment_candidate_dict.items():\n",
    "    experiment_candidate_dict[name] = [\"_\".join(i) for i in itm]"
   ]
  },
  {
   "cell_type": "code",
   "execution_count": null,
   "metadata": {},
   "outputs": [],
   "source": [
    "for name, itm in experiment_candidate_dict.items():\n",
    "    experiment_candidate_dict[name] = make_predict(model=model, candidate=itm, ds=ds, batch_size=64)"
   ]
  },
  {
   "cell_type": "code",
   "execution_count": null,
   "metadata": {},
   "outputs": [],
   "source": [
    "experiment_candidate_dict['breast']"
   ]
  },
  {
   "cell_type": "code",
   "execution_count": null,
   "metadata": {},
   "outputs": [],
   "source": [
    "breast_drug_df = experiment_candidate_dict['breast'].groupby('DRUG_NAME').mean()\n",
    "colo_drug_df = experiment_candidate_dict['colo'].groupby('DRUG_NAME').mean()\n",
    "lung_drug_df = experiment_candidate_dict['lung'].groupby('DRUG_NAME').mean()\n",
    "stomach_drug_df = experiment_candidate_dict['stomach'].groupby('DRUG_NAME').mean()"
   ]
  },
  {
   "cell_type": "code",
   "execution_count": null,
   "metadata": {},
   "outputs": [],
   "source": [
    "colo_set = set(colo_drug_df.sort_values(by='Sensitivity', ascending=False).head(30).index)\n",
    "stomach_set = set(stomach_drug_df.sort_values(by='Sensitivity', ascending=False).head(30).index)\n",
    "lung_set = set(lung_drug_df.sort_values(by='Sensitivity', ascending=False).head(30).index)\n",
    "breast_set = set(breast_drug_df.sort_values(by='Sensitivity', ascending=False).head(30).index)"
   ]
  },
  {
   "cell_type": "code",
   "execution_count": null,
   "metadata": {},
   "outputs": [],
   "source": [
    "common_set = colo_set.intersection(stomach_set, lung_set, breast_set)"
   ]
  },
  {
   "cell_type": "code",
   "execution_count": null,
   "metadata": {},
   "outputs": [],
   "source": [
    "print(f\"Colon: {colo_set.difference(common_set)}\")\n",
    "print(f\"Stomach: {stomach_set.difference(common_set)}\")\n",
    "print(f\"Lung: {lung_set.difference(common_set)}\")\n",
    "print(f\"Breast: {breast_set.difference(common_set)}\")"
   ]
  },
  {
   "cell_type": "code",
   "execution_count": null,
   "metadata": {},
   "outputs": [],
   "source": [
    "'trastuzumab' in ds.drug_info.all_drugs.index"
   ]
  },
  {
   "attachments": {},
   "cell_type": "markdown",
   "metadata": {},
   "source": [
    "## Test type-specific drugs Across Cancer Types"
   ]
  },
  {
   "attachments": {},
   "cell_type": "markdown",
   "metadata": {},
   "source": [
    "Gefitinib Lung Cancer-specific"
   ]
  },
  {
   "cell_type": "code",
   "execution_count": null,
   "metadata": {},
   "outputs": [],
   "source": [
    "gefitinib_entry = [\"_\".join((i, \"gefitinib\")) for i in ds.celline_barcode]"
   ]
  },
  {
   "cell_type": "code",
   "execution_count": null,
   "metadata": {},
   "outputs": [],
   "source": [
    "gefitinib_df = make_predict(model=model, candidate = gefitinib_entry, ds=ds, batch_size=64)"
   ]
  },
  {
   "cell_type": "code",
   "execution_count": null,
   "metadata": {},
   "outputs": [],
   "source": [
    "lung_ccl = model_list[(model_list['tissue'] == 'Lung') & \n",
    "                (model_list['tissue_status'] == 'Tumour')]['model_name']"
   ]
  },
  {
   "cell_type": "code",
   "execution_count": null,
   "metadata": {},
   "outputs": [],
   "source": [
    "gefitinib_df[gefitinib_df['CELL_LINE'].isin(lung_ccl)]"
   ]
  },
  {
   "attachments": {},
   "cell_type": "markdown",
   "metadata": {},
   "source": [
    "## PRISM Holdout Validation"
   ]
  },
  {
   "cell_type": "code",
   "execution_count": null,
   "metadata": {},
   "outputs": [],
   "source": [
    "import pandas as pd\n",
    "import numpy as np\n",
    "from model.data import Dataset"
   ]
  },
  {
   "cell_type": "code",
   "execution_count": null,
   "metadata": {},
   "outputs": [],
   "source": [
    "prism = pd.read_csv('data/PRISM/secondary-screen-dose-response-curve-parameters.csv', low_memory=False)"
   ]
  },
  {
   "cell_type": "code",
   "execution_count": null,
   "metadata": {},
   "outputs": [],
   "source": [
    "import matplotlib.pyplot as plt\n",
    "from sklearn.preprocessing import minmax_scale\n",
    "prism['auc'] = minmax_scale(X=prism['auc'])\n",
    "prism['auc'].quantile([0.3333, 0.66666, 0.9]) # threshold = 0.1728"
   ]
  },
  {
   "cell_type": "code",
   "execution_count": null,
   "metadata": {},
   "outputs": [],
   "source": [
    "prism_drug = pd.DataFrame()\n",
    "prism_drug['DRUG_NAME'] = prism['name']\n",
    "prism_drug['CanonicalSMILES'] = prism['smiles']\n",
    "prism_drug.drop_duplicates(subset='DRUG_NAME', keep='first', inplace=True)\n",
    "prism_drug.reset_index(inplace=True, drop=True)\n",
    "prism_drug_overlapped = list(set(prism_drug['DRUG_NAME']).intersection(set(ds.drug_info.all_drugs.index)))"
   ]
  },
  {
   "cell_type": "code",
   "execution_count": null,
   "metadata": {},
   "outputs": [],
   "source": [
    "prism['ccle_name'] = [str(i).split(\"_\")[0] for i in prism['ccle_name']]"
   ]
  },
  {
   "cell_type": "code",
   "execution_count": null,
   "metadata": {},
   "outputs": [],
   "source": [
    "prism_experiment = prism[(prism['ccle_name'].isin(ds.celline_barcode))&(prism['name'].isin(prism_drug_overlapped))].reset_index(drop=True)"
   ]
  },
  {
   "cell_type": "code",
   "execution_count": null,
   "metadata": {},
   "outputs": [],
   "source": [
    "experiment_id = [\"_\".join((str(i), j)) for i,j in zip(prism_experiment['ccle_name'], prism_experiment['name'])]"
   ]
  },
  {
   "cell_type": "code",
   "execution_count": null,
   "metadata": {},
   "outputs": [],
   "source": [
    "experiment_df = pd.DataFrame()\n",
    "experiment_df['SAMPLE_BARCODE'] = experiment_id\n",
    "experiment_df['AUC'] = prism_experiment['auc']\n",
    "experiment_df['LABELS'] = [1 if i<0.1728 else 0 for i in prism_experiment['auc'] ]\n"
   ]
  },
  {
   "cell_type": "code",
   "execution_count": null,
   "metadata": {},
   "outputs": [],
   "source": [
    "experiment_candidate_prism = list(set(experiment_df['SAMPLE_BARCODE']).difference(train))"
   ]
  },
  {
   "cell_type": "code",
   "execution_count": null,
   "metadata": {},
   "outputs": [],
   "source": [
    "pred_df = make_predict(model=model, candidate=experiment_candidate_prism, ds=ds, batch_size=64)"
   ]
  },
  {
   "cell_type": "code",
   "execution_count": null,
   "metadata": {},
   "outputs": [],
   "source": [
    "ref = experiment_df[experiment_df['SAMPLE_BARCODE'].isin(experiment_candidate_prism)].drop_duplicates(subset='SAMPLE_BARCODE')\n",
    "pred_df[\"SAMPLE_BARCODE\"] = [\"_\".join((i,j)) for i,j in zip(pred_df['CELL_LINE'], pred_df['DRUG_NAME'])]\n",
    "pred_df = pred_df.join(ref.set_index('SAMPLE_BARCODE'), on='SAMPLE_BARCODE')"
   ]
  },
  {
   "cell_type": "code",
   "execution_count": null,
   "metadata": {},
   "outputs": [],
   "source": [
    "pred_df['LABELS_PRED'] = [1 if i>=0.5 else 0 for i in pred_df['Sensitivity']]"
   ]
  },
  {
   "cell_type": "code",
   "execution_count": null,
   "metadata": {},
   "outputs": [],
   "source": [
    "from sklearn.metrics import ConfusionMatrixDisplay, RocCurveDisplay, PrecisionRecallDisplay\n",
    "from sklearn.metrics import confusion_matrix\n",
    "\n",
    "RocCurveDisplay.from_predictions(y_true=list(pred_df['LABELS']), y_pred=list(pred_df['Sensitivity']))"
   ]
  },
  {
   "cell_type": "code",
   "execution_count": null,
   "metadata": {},
   "outputs": [],
   "source": [
    "cm = confusion_matrix(y_true=list(pred_df['LABELS']), y_pred=list(pred_df['LABELS_PRED']))\n",
    "disp=ConfusionMatrixDisplay(confusion_matrix=cm, display_labels=[0,1])\n",
    "disp.plot(cmap=plt.cm.Blues)\n"
   ]
  },
  {
   "attachments": {},
   "cell_type": "markdown",
   "metadata": {},
   "source": [
    "## Feature Ablation"
   ]
  },
  {
   "cell_type": "code",
   "execution_count": null,
   "metadata": {},
   "outputs": [],
   "source": []
  },
  {
   "attachments": {},
   "cell_type": "markdown",
   "metadata": {},
   "source": [
    "## Cross-dataset Validation"
   ]
  },
  {
   "cell_type": "code",
   "execution_count": null,
   "metadata": {},
   "outputs": [],
   "source": []
  }
 ],
 "metadata": {
  "kernelspec": {
   "display_name": "tf",
   "language": "python",
   "name": "python3"
  },
  "language_info": {
   "codemirror_mode": {
    "name": "ipython",
    "version": 3
   },
   "file_extension": ".py",
   "mimetype": "text/x-python",
   "name": "python",
   "nbconvert_exporter": "python",
   "pygments_lexer": "ipython3",
   "version": "3.10.10"
  },
  "orig_nbformat": 4
 },
 "nbformat": 4,
 "nbformat_minor": 2
}
