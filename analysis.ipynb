{
 "cells": [
  {
   "attachments": {},
   "cell_type": "markdown",
   "metadata": {},
   "source": [
    "## 必要工作"
   ]
  },
  {
   "cell_type": "code",
   "execution_count": 1,
   "metadata": {},
   "outputs": [],
   "source": [
    "import tensorflow as tf\n",
    "from keras.metrics import AUC\n",
    "from keras.callbacks import LearningRateScheduler, EarlyStopping\n",
    "from keras.metrics import Precision, Recall\n",
    "from keras.losses import BinaryCrossentropy\n",
    "import datetime\n",
    "from model.nn import multichannel_network\n",
    "from model.data import Dataset, DataGenerator\n",
    "from sklearn.utils import class_weight\n",
    "import numpy as np\n",
    "\n",
    "import matplotlib.pyplot as plt\n",
    "\n",
    "def plot_picture(history):\n",
    "    '''\n",
    "    画出训练集和验证集的损失和精度变化，分析模型状态\n",
    "    :return:\n",
    "    '''\n",
    "\n",
    "    # 画出训练集和验证集的损失和精度变化，分析模型状态\n",
    "\n",
    "    acc = history.history['auc_2']  # 训练集acc\n",
    "    val_acc = history.history['val_auc_2']  # 验证集 acc\n",
    "    loss = history.history['loss']  # 训练损失\n",
    "    val_loss = history.history['val_loss']  # 验证损失\n",
    "    epochs = range(1, len(acc) + 1)  # 迭代次数\n",
    "    plt.plot(epochs, loss, 'bo', label='Training loss')  # bo for blue dot 蓝色点\n",
    "    plt.plot(epochs, val_loss, 'b', label='Validation loss')\n",
    "    plt.title('Training and validation loss')\n",
    "    plt.xlabel('Epochs')\n",
    "    plt.ylabel('Loss')\n",
    "    plt.legend()\n",
    "    plt.show()\n",
    " \n",
    "    plt.clf()  # clar figure\n",
    "\n",
    "    plt.plot(epochs, acc, 'bo', label='Training AUPRC')  # bo for blue dot 蓝色点\n",
    "    plt.plot(epochs, val_acc, 'b', label='Validation AUPRC')\n",
    "    plt.title('Training and validation AUPRC')\n",
    "    plt.xlabel('Epochs')\n",
    "    plt.ylabel('AUPRC')\n",
    "    plt.legend()\n",
    "    plt.show()\n",
    " \n",
    "    plt.clf()"
   ]
  },
  {
   "cell_type": "code",
   "execution_count": 2,
   "metadata": {},
   "outputs": [
    {
     "name": "stdout",
     "output_type": "stream",
     "text": [
      "Loading Copy Number Abberation Data...\n",
      "Loading Copy Number Abberation Data Done\n",
      "Loading Gene Expression Data...\n",
      "Loading Gene Expression Data Done\n",
      "Loading Methylation Data...\n"
     ]
    },
    {
     "name": "stderr",
     "output_type": "stream",
     "text": [
      "/Users/sunzehui/miniconda3/envs/tf/lib/python3.10/site-packages/openpyxl/worksheet/_reader.py:329: UserWarning: Unknown extension is not supported and will be removed\n",
      "  warn(msg)\n"
     ]
    },
    {
     "name": "stdout",
     "output_type": "stream",
     "text": [
      "Loading Methylation Data Done\n",
      "Loading Mutations Data...\n",
      "Loading Mutations Data Done\n",
      "Begin loading drug data...\n",
      "After filtering, GDSC has tested 477 drugs; CTRP has tested 425 drugs\n",
      "After combining, unique cid number is 792\n"
     ]
    },
    {
     "name": "stderr",
     "output_type": "stream",
     "text": [
      "  0%|          | 0/792 [00:00<?, ?it/s]/Users/sunzehui/miniconda3/envs/tf/lib/python3.10/site-packages/scipy/_lib/_util.py:69: RuntimeWarning: overflow encountered in _ncx2_cdf\n",
      "  np.place(out, cond, f(*temp))\n",
      "/Users/sunzehui/miniconda3/envs/tf/lib/python3.10/site-packages/scipy/stats/_continuous_distns.py:6630: RuntimeWarning: overflow encountered in _ncf_cdf\n",
      "  return _boost._ncf_cdf(x, dfn, dfd, nc)\n",
      "  0%|          | 2/792 [00:00<01:30,  8.68it/s]/Users/sunzehui/miniconda3/envs/tf/lib/python3.10/site-packages/scipy/stats/_continuous_distns.py:6826: RuntimeWarning: overflow encountered in _nct_cdf\n",
      "  return np.clip(_boost._nct_cdf(x, df, nc), 0, 1)\n",
      "100%|██████████| 792/792 [01:15<00:00, 10.44it/s]\n"
     ]
    },
    {
     "name": "stdout",
     "output_type": "stream",
     "text": [
      "Drug data loaded\n",
      "Loading CTRP Experiment Data...\n",
      "Loading Experiment Data Done\n",
      "Begin Preprocessing Experiment!\n",
      "Select Overlapping Cellines...\n",
      "Index(['DRUG_NAME', 'SMILES', 'CELL_LINE_NAME', 'AUC', 'DATASET'], dtype='object')\n",
      "Select Overlapping Cellines with available PubChem CIDs...\n",
      "Create Unique Sample Barcode...\n",
      "Exclude response value...\n",
      "Experiment Done!\n",
      "Preparing Omics data...\n",
      "Omics data Done!\n",
      "We have 38175 samples in dataset...\n",
      "Save the dataset into hdf5 data format...\n",
      "Done!\n"
     ]
    }
   ],
   "source": [
    "tf.random.set_seed(40)\n",
    "# Dataset Setting: \n",
    "## choose from ['methylation', 'gene_expression', 'cnv', 'mutation']\n",
    "FEATURE = ['gene_expression', 'methylation', 'mutation', 'cnv'] \n",
    "ds = Dataset(\n",
    "    feature_contained=FEATURE, \n",
    "    dataset='CTRP', \n",
    "    set_label=True, \n",
    "    response='AUC', \n",
    "    threshold=.58)\n",
    "# CTRP, \"AUC\", 0.58, 0.001\n",
    "# GDSC, \"AUC\", .88, 0.001\n",
    "# model parameters settings\n",
    "ds.save()\n"
   ]
  },
  {
   "cell_type": "code",
   "execution_count": 3,
   "metadata": {},
   "outputs": [],
   "source": [
    "lr_rate = 0.01\n",
    "dropout_rate = .5\n",
    "batch_size = 64\n",
    "epochs = 10\n",
    "\n",
    "# Split train, test and validation set for training and testing, build generators\n",
    "partition = ds.split(data=ds.sample_barcode,validation=True)\n",
    "train = partition['train']\n",
    "test = partition['test']\n",
    "validation = partition['validation']\n"
   ]
  },
  {
   "cell_type": "code",
   "execution_count": 4,
   "metadata": {},
   "outputs": [],
   "source": [
    "train_generator = DataGenerator(sample_barcode=train, **ds.get_config(), batch_size=batch_size)\n",
    "validation_generator = DataGenerator(sample_barcode=validation, **ds.get_config(), batch_size=batch_size)\n",
    "test_generator = DataGenerator(sample_barcode=test, **ds.get_config(), batch_size=batch_size)\n",
    "\n",
    "# Training parameters\n",
    "class_weights = class_weight.compute_class_weight(class_weight='balanced',\n",
    "                                                 classes=np.unique([ds.labels[x] for x in train]),\n",
    "                                                 y=[ds.labels[x] for x in train])\n",
    "\n",
    "weights_dict = {i:w for i,w in enumerate(class_weights)}\n",
    "log_dir = \"logs/fit/\" + datetime.datetime.now().strftime(\"%Y%m%d-%H%M%S\")\n",
    "tensorboard_callback = tf.keras.callbacks.TensorBoard(log_dir=log_dir, histogram_freq=1)\n",
    "def scheduler(epoch, lr):\n",
    "    if(epoch % 5 ==0 and epoch !=0):\n",
    "        return lr*0.1\n",
    "    else:\n",
    "        return lr\n",
    "reduce_lr = LearningRateScheduler(scheduler)\n",
    "# reduce_lr = ReduceLROnPlateau(monitor='val_loss', factor=0.2,\n",
    "#                               patience=5, min_lr=0.001)\n",
    "early_stop = EarlyStopping(monitor='val_loss', patience=10)\n"
   ]
  },
  {
   "cell_type": "code",
   "execution_count": 5,
   "metadata": {},
   "outputs": [
    {
     "name": "stderr",
     "output_type": "stream",
     "text": [
      "2023-04-24 14:39:11.253628: W tensorflow/tsl/platform/profile_utils/cpu_utils.cc:128] Failed to get CPU frequency: 0 Hz\n"
     ]
    },
    {
     "name": "stdout",
     "output_type": "stream",
     "text": [
      "Epoch 1/10\n",
      "477/477 [==============================] - 135s 275ms/step - loss: 0.8428 - precision: 0.5423 - recall: 0.7193 - auc: 0.7977 - auc_1: 0.6344 - val_loss: 0.7111 - val_precision: 0.5558 - val_recall: 0.7936 - val_auc: 0.8365 - val_auc_1: 0.6906 - lr: 0.0100\n",
      "Epoch 2/10\n",
      "477/477 [==============================] - 133s 278ms/step - loss: 0.6325 - precision: 0.6100 - recall: 0.7811 - auc: 0.8538 - auc_1: 0.7264 - val_loss: 0.6838 - val_precision: 0.5611 - val_recall: 0.7957 - val_auc: 0.8485 - val_auc_1: 0.7259 - lr: 0.0100\n",
      "Epoch 3/10\n",
      "477/477 [==============================] - 132s 277ms/step - loss: 0.5645 - precision: 0.6331 - recall: 0.7969 - auc: 0.8732 - auc_1: 0.7621 - val_loss: 0.9807 - val_precision: 0.3980 - val_recall: 0.9456 - val_auc: 0.8507 - val_auc_1: 0.7362 - lr: 0.0100\n",
      "Epoch 4/10\n",
      "477/477 [==============================] - 133s 279ms/step - loss: 0.5269 - precision: 0.6337 - recall: 0.8084 - auc: 0.8794 - auc_1: 0.7700 - val_loss: 0.4661 - val_precision: 0.7505 - val_recall: 0.6446 - val_auc: 0.8818 - val_auc_1: 0.7820 - lr: 0.0100\n",
      "Epoch 5/10\n",
      "477/477 [==============================] - 131s 274ms/step - loss: 0.4999 - precision: 0.6488 - recall: 0.8138 - auc: 0.8866 - auc_1: 0.7843 - val_loss: 0.8478 - val_precision: 0.0000e+00 - val_recall: 0.0000e+00 - val_auc: 0.8473 - val_auc_1: 0.7378 - lr: 0.0100\n",
      "Epoch 6/10\n",
      "477/477 [==============================] - 133s 278ms/step - loss: 0.4337 - precision: 0.6695 - recall: 0.8400 - auc: 0.9067 - auc_1: 0.8228 - val_loss: 0.4354 - val_precision: 0.6454 - val_recall: 0.8728 - val_auc: 0.9179 - val_auc_1: 0.8387 - lr: 1.0000e-03\n",
      "Epoch 7/10\n",
      "477/477 [==============================] - 133s 278ms/step - loss: 0.4113 - precision: 0.6888 - recall: 0.8433 - auc: 0.9139 - auc_1: 0.8369 - val_loss: 0.4362 - val_precision: 0.6325 - val_recall: 0.8943 - val_auc: 0.9228 - val_auc_1: 0.8475 - lr: 1.0000e-03\n",
      "Epoch 8/10\n",
      "477/477 [==============================] - 133s 278ms/step - loss: 0.4012 - precision: 0.6910 - recall: 0.8498 - auc: 0.9171 - auc_1: 0.8415 - val_loss: 0.4196 - val_precision: 0.6352 - val_recall: 0.8877 - val_auc: 0.9245 - val_auc_1: 0.8517 - lr: 1.0000e-03\n",
      "Epoch 9/10\n",
      "477/477 [==============================] - 133s 279ms/step - loss: 0.3971 - precision: 0.6927 - recall: 0.8462 - auc: 0.9176 - auc_1: 0.8441 - val_loss: 0.4085 - val_precision: 0.6512 - val_recall: 0.8852 - val_auc: 0.9247 - val_auc_1: 0.8499 - lr: 1.0000e-03\n",
      "Epoch 10/10\n",
      "477/477 [==============================] - 133s 279ms/step - loss: 0.3926 - precision: 0.6897 - recall: 0.8478 - auc: 0.9190 - auc_1: 0.8443 - val_loss: 0.4120 - val_precision: 0.6448 - val_recall: 0.8829 - val_auc: 0.9238 - val_auc_1: 0.8498 - lr: 1.0000e-03\n",
      "59/59 [==============================] - 14s 243ms/step - loss: 0.4232 - precision: 0.6433 - recall: 0.8893 - auc: 0.9200 - auc_1: 0.8531\n",
      "[0.42315709590911865, 0.6433041095733643, 0.8892733454704285, 0.9199749827384949, 0.8531448841094971]\n"
     ]
    }
   ],
   "source": [
    "# model building\n",
    "model = multichannel_network(\n",
    "    data=ds.omics_data, \n",
    "    feature_contained=FEATURE, \n",
    "    train_sample_barcode=train) \n",
    "model.compile(optimizer=tf.keras.optimizers.Adam(learning_rate=0.01),\n",
    "              loss=BinaryCrossentropy(),\n",
    "              metrics=\n",
    "              [\n",
    "                Precision(name=\"precision\"),\n",
    "                Recall(name=\"recall\"),\n",
    "                AUC(curve='ROC'),\n",
    "                AUC(curve='PR')\n",
    "              ]\n",
    "            )\n",
    "\n",
    "history = model.fit(\n",
    "    x=train_generator, \n",
    "    epochs=epochs,\n",
    "    validation_data=validation_generator, \n",
    "    callbacks=[reduce_lr],\n",
    "    class_weight=weights_dict\n",
    "                    )\n",
    "\n",
    "scores = model.evaluate(x=test_generator) \n",
    "print(list(scores))\n"
   ]
  },
  {
   "cell_type": "code",
   "execution_count": 6,
   "metadata": {},
   "outputs": [],
   "source": [
    "all_generator = DataGenerator(sample_barcode=validation+test, **ds.get_config(), batch_size=batch_size)"
   ]
  },
  {
   "cell_type": "code",
   "execution_count": 7,
   "metadata": {},
   "outputs": [
    {
     "name": "stdout",
     "output_type": "stream",
     "text": [
      "119/119 [==============================] - 28s 238ms/step - loss: 0.4184 - precision: 0.6426 - recall: 0.8869 - auc: 0.9216 - auc_1: 0.8500\n"
     ]
    },
    {
     "data": {
      "text/plain": [
       "[0.418387770652771,\n",
       " 0.6426095366477966,\n",
       " 0.8869073390960693,\n",
       " 0.9215967059135437,\n",
       " 0.8500469923019409]"
      ]
     },
     "execution_count": 7,
     "metadata": {},
     "output_type": "execute_result"
    }
   ],
   "source": [
    "model.evaluate(x=all_generator)"
   ]
  },
  {
   "cell_type": "code",
   "execution_count": 8,
   "metadata": {},
   "outputs": [
    {
     "data": {
      "text/plain": [
       "ListWrapper([<tf.Tensor: shape=(64, 768), dtype=float32, numpy=\n",
       "array([[ 5.40941507e-02, -5.77790756e-03,  1.07252695e-01, ...,\n",
       "         8.08254015e-07,  8.66743335e-07,  2.60914044e-06],\n",
       "       [ 5.06480709e-02, -6.64826035e-02,  1.08093478e-01, ...,\n",
       "         2.85419031e-08,  3.13759649e-08,  8.95190055e-08],\n",
       "       [ 1.22337312e-01, -1.93064939e-02,  1.53788835e-01, ...,\n",
       "        -1.33224967e-05, -9.18127535e-06,  3.68616384e-05],\n",
       "       ...,\n",
       "       [ 1.35076702e-01,  2.25918517e-02,  1.52120739e-01, ...,\n",
       "        -1.14252748e-06,  2.17023603e-06,  6.77808339e-06],\n",
       "       [ 9.57268775e-02, -1.06394783e-01,  2.23573059e-01, ...,\n",
       "         7.16540705e-13,  9.69817325e-13,  1.12955652e-12],\n",
       "       [ 1.42759487e-01,  3.95495677e-03,  1.60687834e-01, ...,\n",
       "        -1.98915717e-04,  7.61729234e-06,  2.13424835e-04]], dtype=float32)>, <tf.Tensor 'multichannel_network/concatenate/concat:0' shape=(None, 768) dtype=float32>])"
      ]
     },
     "execution_count": 8,
     "metadata": {},
     "output_type": "execute_result"
    }
   ],
   "source": [
    "model.encoded_feature"
   ]
  },
  {
   "cell_type": "code",
   "execution_count": 81,
   "metadata": {},
   "outputs": [
    {
     "name": "stderr",
     "output_type": "stream",
     "text": [
      "WARNING:absl:Found untraced functions such as _jit_compiled_convolution_op, _jit_compiled_convolution_op, _jit_compiled_convolution_op, _update_step_xla while saving (showing 4 of 4). These functions will not be directly callable after loading.\n"
     ]
    },
    {
     "name": "stdout",
     "output_type": "stream",
     "text": [
      "INFO:tensorflow:Assets written to: CTRP_0.01_5-0.1_64_10_all_optimized/assets\n"
     ]
    },
    {
     "name": "stderr",
     "output_type": "stream",
     "text": [
      "INFO:tensorflow:Assets written to: CTRP_0.01_5-0.1_64_10_all_optimized/assets\n"
     ]
    }
   ],
   "source": [
    "tf.saved_model.save(model, 'CTRP_0.01_5-0.1_64_10_all_optimized')"
   ]
  },
  {
   "cell_type": "code",
   "execution_count": 31,
   "metadata": {},
   "outputs": [],
   "source": [
    "_model_ = tf.saved_model.load('CTRP_0.01_5-0.1_64_15_all')"
   ]
  },
  {
   "cell_type": "code",
   "execution_count": 9,
   "metadata": {},
   "outputs": [],
   "source": [
    "def prepare(candidate):\n",
    "    celline_candidate = [i.split('_')[0] for i in candidate]\n",
    "    drug_candidate = [i.split('_')[1] for i in candidate]\n",
    "    feature = {}\n",
    "    feature['fingerprint'] = ds.drug_info.drug_feature['fingerprint'].loc[drug_candidate].values.astype(np.float32)\n",
    "    feature['rdkit2d'] = ds.drug_info.drug_feature['rdkit2d'].loc[drug_candidate].values.astype(np.float32)\n",
    "\n",
    "    for i in ds.feature_contained:\n",
    "        feature[i] = ds.omics_data[i].loc[celline_candidate].values.astype(np.float32)\n",
    "    return feature"
   ]
  },
  {
   "cell_type": "code",
   "execution_count": 10,
   "metadata": {},
   "outputs": [],
   "source": [
    "from tqdm import tqdm\n",
    "import pandas as pd\n",
    "def make_predict(model, candidate, ds, batch_size):\n",
    "    \"\"\"\n",
    "\n",
    "    Args:\n",
    "        candidate (list): list[\"CELLINE_DRUG\"]\n",
    "        ds (Dataset): Dataset Object\n",
    "    \"\"\"\n",
    "    celline_candidate = [i.split('_')[0] for i in candidate]\n",
    "    drug_candidate = [i.split('_')[1] for i in candidate]\n",
    "    feature = {}\n",
    "    for i in ds.feature_contained:\n",
    "        feature[i] = ds.omics_data[i].loc[celline_candidate].values.astype(np.float32)\n",
    "    \n",
    "    feature['fingerprint'] = ds.drug_info.drug_feature['fingerprint'].loc[drug_candidate].values.astype(np.float32)\n",
    "    feature['rdkit2d'] = ds.drug_info.drug_feature['rdkit2d'].loc[drug_candidate].values.astype(np.float32)\n",
    "    chunks = []\n",
    "\n",
    "    for i in range(0, len(candidate), batch_size):\n",
    "        x = i\n",
    "        sample = {i:feature[i][x:x+batch_size] for i in ds.feature_contained}\n",
    "        sample.update(\n",
    "            {\n",
    "                \"fingerprint\": feature[\"fingerprint\"][x:x+batch_size],\n",
    "                \"rdkit2d\": feature['rdkit2d'][x:x+batch_size]\n",
    "            }\n",
    "        )\n",
    "        chunks.append(sample)\n",
    "    result = []\n",
    "\n",
    "    for i in tqdm(chunks):\n",
    "        result.append(model(i))\n",
    "    result = np.concatenate(result, axis=-2)\n",
    "    # result = result[0:len(candidate)]\n",
    "    import pandas as pd\n",
    "    df = pd.DataFrame(data=result, columns=['Sensitivity'])\n",
    "    df['DRUG_NAME'] = drug_candidate\n",
    "    df['CELL_LINE'] = celline_candidate\n",
    "    return df "
   ]
  },
  {
   "attachments": {},
   "cell_type": "markdown",
   "metadata": {},
   "source": [
    "# ANALYSIS"
   ]
  },
  {
   "cell_type": "code",
   "execution_count": 11,
   "metadata": {},
   "outputs": [],
   "source": [
    "import pandas as pd\n",
    "import seaborn as sns\n",
    "import numpy as np\n",
    "import matplotlib.pyplot as plt"
   ]
  },
  {
   "attachments": {},
   "cell_type": "markdown",
   "metadata": {},
   "source": [
    "## GDSC and CTRPv2 Basic Statistics"
   ]
  },
  {
   "attachments": {},
   "cell_type": "markdown",
   "metadata": {},
   "source": [
    "CTRP AUC Histogram"
   ]
  },
  {
   "cell_type": "code",
   "execution_count": 12,
   "metadata": {},
   "outputs": [
    {
     "data": {
      "text/plain": [
       "<AxesSubplot:xlabel='AUC', ylabel='Count'>"
      ]
     },
     "execution_count": 12,
     "metadata": {},
     "output_type": "execute_result"
    },
    {
     "data": {
      "image/png": "[encoded data removed]",
      "text/plain": [
       "<Figure size 640x480 with 1 Axes>"
      ]
     },
     "metadata": {},
     "output_type": "display_data"
    }
   ],
   "source": [
    "sns.histplot(data=ds.response['AUC'])"
   ]
  },
  {
   "attachments": {},
   "cell_type": "markdown",
   "metadata": {},
   "source": [
    "## AUC, AUPRC and Confusion Matrix over test dataset"
   ]
  },
  {
   "cell_type": "code",
   "execution_count": 13,
   "metadata": {},
   "outputs": [
    {
     "name": "stderr",
     "output_type": "stream",
     "text": [
      "100%|██████████| 30/30 [00:47<00:00,  1.57s/it]\n"
     ]
    }
   ],
   "source": [
    "pred_df = make_predict(model=model, candidate=test, ds=ds, batch_size=128)"
   ]
  },
  {
   "cell_type": "code",
   "execution_count": 14,
   "metadata": {},
   "outputs": [],
   "source": [
    "pred_df['true_labels'] = [ds.labels[i] for i in test]"
   ]
  },
  {
   "cell_type": "code",
   "execution_count": 15,
   "metadata": {},
   "outputs": [],
   "source": [
    "pred_df.rename(columns={\"AUC_predicted\": \"Sensitivity\"}, inplace=True)"
   ]
  },
  {
   "cell_type": "code",
   "execution_count": 16,
   "metadata": {},
   "outputs": [],
   "source": [
    "pred_df['pred_labels'] = [1 if i>0.5 else 0 for i in pred_df['Sensitivity']]"
   ]
  },
  {
   "cell_type": "code",
   "execution_count": 18,
   "metadata": {},
   "outputs": [
    {
     "data": {
      "text/plain": [
       "<sklearn.metrics._plot.confusion_matrix.ConfusionMatrixDisplay at 0x286659090>"
      ]
     },
     "execution_count": 18,
     "metadata": {},
     "output_type": "execute_result"
    },
    {
     "data": {
      "image/png": "[encoded data removed]",
      "text/plain": [
       "<Figure size 640x480 with 2 Axes>"
      ]
     },
     "metadata": {},
     "output_type": "display_data"
    }
   ],
   "source": [
    "from sklearn.metrics import ConfusionMatrixDisplay, RocCurveDisplay, PrecisionRecallDisplay\n",
    "from sklearn.metrics import confusion_matrix\n",
    "\n",
    "cm = confusion_matrix(y_true=list(pred_df['true_labels']), y_pred=list(pred_df['pred_labels']))\n",
    "disp=ConfusionMatrixDisplay(confusion_matrix=cm, display_labels=[0,1])\n",
    "disp.plot(cmap=plt.cm.Blues)\n"
   ]
  },
  {
   "cell_type": "code",
   "execution_count": 19,
   "metadata": {},
   "outputs": [
    {
     "data": {
      "text/plain": [
       "<sklearn.metrics._plot.roc_curve.RocCurveDisplay at 0x16cb28df0>"
      ]
     },
     "execution_count": 19,
     "metadata": {},
     "output_type": "execute_result"
    },
    {
     "data": {
      "image/png": "[encoded data removed]",
      "text/plain": [
       "<Figure size 640x480 with 1 Axes>"
      ]
     },
     "metadata": {},
     "output_type": "display_data"
    }
   ],
   "source": [
    "RocCurveDisplay.from_predictions(y_true=list(pred_df['true_labels']), y_pred=list(pred_df['Sensitivity']),)"
   ]
  },
  {
   "cell_type": "code",
   "execution_count": 20,
   "metadata": {},
   "outputs": [
    {
     "data": {
      "text/plain": [
       "<sklearn.metrics._plot.precision_recall_curve.PrecisionRecallDisplay at 0x17cddc730>"
      ]
     },
     "execution_count": 20,
     "metadata": {},
     "output_type": "execute_result"
    },
    {
     "data": {
      "image/png": "[encoded data removed]",
      "text/plain": [
       "<Figure size 640x480 with 1 Axes>"
      ]
     },
     "metadata": {},
     "output_type": "display_data"
    }
   ],
   "source": [
    "PrecisionRecallDisplay.from_predictions(y_true=list(pred_df['true_labels']), y_pred=list(pred_df['Sensitivity']),)"
   ]
  },
  {
   "attachments": {},
   "cell_type": "markdown",
   "metadata": {},
   "source": [
    "## Predicted Scores Comparison between sensitive and insensitive drugs"
   ]
  },
  {
   "cell_type": "code",
   "execution_count": 21,
   "metadata": {},
   "outputs": [
    {
     "data": {
      "text/plain": [
       "<AxesSubplot:xlabel='true_labels', ylabel='Sensitivity'>"
      ]
     },
     "execution_count": 21,
     "metadata": {},
     "output_type": "execute_result"
    },
    {
     "data": {
      "image/png": "[encoded data removed]",
      "text/plain": [
       "<Figure size 640x480 with 1 Axes>"
      ]
     },
     "metadata": {},
     "output_type": "display_data"
    }
   ],
   "source": [
    "sns.violinplot(data=pred_df, x=\"true_labels\", y=\"Sensitivity\")"
   ]
  },
  {
   "attachments": {},
   "cell_type": "markdown",
   "metadata": {},
   "source": [
    "## Test Cancer(Lung, Colon, Breast, Stomach) Across drug types "
   ]
  },
  {
   "attachments": {},
   "cell_type": "markdown",
   "metadata": {},
   "source": [
    "Find all cellines related to Colon Cancer"
   ]
  },
  {
   "cell_type": "code",
   "execution_count": 22,
   "metadata": {},
   "outputs": [],
   "source": [
    "model_list = pd.read_csv('data/raw_data/model_list_20230307.csv')\n",
    "lung_ccl = model_list[(model_list['tissue'] == 'Lung') & \n",
    "                (model_list['tissue_status'] == 'Tumour')]['model_name']\n",
    "breast_ccl = model_list[(model_list['tissue'] == 'Breast') & \n",
    "                (model_list['tissue_status'] == 'Tumour')]['model_name']\n",
    "colo_ccl = model_list[((model_list['tissue'] == 'Small Intestine') | (model_list['tissue'] == 'Large Intestine')) & \n",
    "                (model_list['tissue_status'] == 'Tumour')]['model_name']\n",
    "stomach_ccl = model_list[(model_list['tissue'] == 'Stomach') & \n",
    "                (model_list['tissue_status'] == 'Tumour')]['model_name']\n"
   ]
  },
  {
   "cell_type": "code",
   "execution_count": 23,
   "metadata": {},
   "outputs": [],
   "source": [
    "celline_barcode = set(ds.celline_barcode)\n",
    "colo_ccl = set(colo_ccl).intersection(celline_barcode)\n",
    "lung_ccl = set(lung_ccl).intersection(celline_barcode)\n",
    "breast_ccl = set(breast_ccl).intersection(celline_barcode)\n",
    "stomach_ccl = set(stomach_ccl).intersection(celline_barcode)\n",
    "drug_candidate = set(ds.drug_info.all_drugs.index).difference(set(ds.processed_experiment['DRUG_NAME']))"
   ]
  },
  {
   "cell_type": "code",
   "execution_count": 24,
   "metadata": {},
   "outputs": [],
   "source": [
    "import itertools\n",
    "l = {\"colo\": colo_ccl, \"lung\": lung_ccl, \"breast\": breast_ccl, \"stomach\": stomach_ccl}\n",
    "experiment_candidate_dict = {name:itertools.product(i, drug_candidate) for name, i in l.items()}\n",
    "for name, itm in experiment_candidate_dict.items():\n",
    "    experiment_candidate_dict[name] = [\"_\".join(i) for i in itm]"
   ]
  },
  {
   "cell_type": "code",
   "execution_count": 25,
   "metadata": {},
   "outputs": [
    {
     "name": "stderr",
     "output_type": "stream",
     "text": [
      "100%|██████████| 52/52 [00:31<00:00,  1.63it/s]\n",
      "100%|██████████| 29/29 [00:17<00:00,  1.65it/s]\n",
      "100%|██████████| 63/63 [00:39<00:00,  1.61it/s]\n",
      "100%|██████████| 23/23 [00:14<00:00,  1.63it/s]\n"
     ]
    }
   ],
   "source": [
    "for name, itm in experiment_candidate_dict.items():\n",
    "    experiment_candidate_dict[name] = make_predict(model=model, candidate=itm, ds=ds, batch_size=64)"
   ]
  },
  {
   "cell_type": "code",
   "execution_count": 26,
   "metadata": {},
   "outputs": [
    {
     "data": {
      "text/html": [
       "<div>\n",
       "<style scoped>\n",
       "    .dataframe tbody tr th:only-of-type {\n",
       "        vertical-align: middle;\n",
       "    }\n",
       "\n",
       "    .dataframe tbody tr th {\n",
       "        vertical-align: top;\n",
       "    }\n",
       "\n",
       "    .dataframe thead th {\n",
       "        text-align: right;\n",
       "    }\n",
       "</style>\n",
       "<table border=\"1\" class=\"dataframe\">\n",
       "  <thead>\n",
       "    <tr style=\"text-align: right;\">\n",
       "      <th></th>\n",
       "      <th>Sensitivity</th>\n",
       "      <th>DRUG_NAME</th>\n",
       "      <th>CELL_LINE</th>\n",
       "    </tr>\n",
       "  </thead>\n",
       "  <tbody>\n",
       "    <tr>\n",
       "      <th>0</th>\n",
       "      <td>0.196373</td>\n",
       "      <td>Masitinib</td>\n",
       "      <td>HCC1395</td>\n",
       "    </tr>\n",
       "    <tr>\n",
       "      <th>1</th>\n",
       "      <td>0.034303</td>\n",
       "      <td>UNC0379</td>\n",
       "      <td>HCC1395</td>\n",
       "    </tr>\n",
       "    <tr>\n",
       "      <th>2</th>\n",
       "      <td>0.390383</td>\n",
       "      <td>AKT inhibitor VIII</td>\n",
       "      <td>HCC1395</td>\n",
       "    </tr>\n",
       "    <tr>\n",
       "      <th>3</th>\n",
       "      <td>0.965219</td>\n",
       "      <td>LMP744</td>\n",
       "      <td>HCC1395</td>\n",
       "    </tr>\n",
       "    <tr>\n",
       "      <th>4</th>\n",
       "      <td>0.546493</td>\n",
       "      <td>Pilaralisib</td>\n",
       "      <td>HCC1395</td>\n",
       "    </tr>\n",
       "    <tr>\n",
       "      <th>...</th>\n",
       "      <td>...</td>\n",
       "      <td>...</td>\n",
       "      <td>...</td>\n",
       "    </tr>\n",
       "    <tr>\n",
       "      <th>3999</th>\n",
       "      <td>0.961265</td>\n",
       "      <td>CGP-082996</td>\n",
       "      <td>HCC2218</td>\n",
       "    </tr>\n",
       "    <tr>\n",
       "      <th>4000</th>\n",
       "      <td>0.990631</td>\n",
       "      <td>Entinostat</td>\n",
       "      <td>HCC2218</td>\n",
       "    </tr>\n",
       "    <tr>\n",
       "      <th>4001</th>\n",
       "      <td>0.910253</td>\n",
       "      <td>Shikonin</td>\n",
       "      <td>HCC2218</td>\n",
       "    </tr>\n",
       "    <tr>\n",
       "      <th>4002</th>\n",
       "      <td>0.942326</td>\n",
       "      <td>FMK</td>\n",
       "      <td>HCC2218</td>\n",
       "    </tr>\n",
       "    <tr>\n",
       "      <th>4003</th>\n",
       "      <td>0.876031</td>\n",
       "      <td>Bleomycin</td>\n",
       "      <td>HCC2218</td>\n",
       "    </tr>\n",
       "  </tbody>\n",
       "</table>\n",
       "<p>4004 rows × 3 columns</p>\n",
       "</div>"
      ],
      "text/plain": [
       "      Sensitivity           DRUG_NAME CELL_LINE\n",
       "0        0.196373           Masitinib   HCC1395\n",
       "1        0.034303             UNC0379   HCC1395\n",
       "2        0.390383  AKT inhibitor VIII   HCC1395\n",
       "3        0.965219              LMP744   HCC1395\n",
       "4        0.546493         Pilaralisib   HCC1395\n",
       "...           ...                 ...       ...\n",
       "3999     0.961265          CGP-082996   HCC2218\n",
       "4000     0.990631          Entinostat   HCC2218\n",
       "4001     0.910253            Shikonin   HCC2218\n",
       "4002     0.942326                 FMK   HCC2218\n",
       "4003     0.876031           Bleomycin   HCC2218\n",
       "\n",
       "[4004 rows x 3 columns]"
      ]
     },
     "execution_count": 26,
     "metadata": {},
     "output_type": "execute_result"
    }
   ],
   "source": [
    "experiment_candidate_dict['breast']"
   ]
  },
  {
   "cell_type": "code",
   "execution_count": 27,
   "metadata": {},
   "outputs": [],
   "source": [
    "breast_drug_df = experiment_candidate_dict['breast'].groupby('DRUG_NAME').mean()\n",
    "colo_drug_df = experiment_candidate_dict['colo'].groupby('DRUG_NAME').mean()\n",
    "lung_drug_df = experiment_candidate_dict['lung'].groupby('DRUG_NAME').mean()\n",
    "stomach_drug_df = experiment_candidate_dict['stomach'].groupby('DRUG_NAME').mean()"
   ]
  },
  {
   "cell_type": "code",
   "execution_count": 28,
   "metadata": {},
   "outputs": [],
   "source": [
    "colo_set = set(colo_drug_df.sort_values(by='Sensitivity', ascending=False).head(30).index)\n",
    "stomach_set = set(stomach_drug_df.sort_values(by='Sensitivity', ascending=False).head(30).index)\n",
    "lung_set = set(lung_drug_df.sort_values(by='Sensitivity', ascending=False).head(30).index)\n",
    "breast_set = set(breast_drug_df.sort_values(by='Sensitivity', ascending=False).head(30).index)"
   ]
  },
  {
   "cell_type": "code",
   "execution_count": 29,
   "metadata": {},
   "outputs": [],
   "source": [
    "common_set = colo_set.intersection(stomach_set, lung_set, breast_set)"
   ]
  },
  {
   "cell_type": "code",
   "execution_count": 30,
   "metadata": {},
   "outputs": [
    {
     "name": "stdout",
     "output_type": "stream",
     "text": [
      "Colon: {'Tanespimycin', 'GNE-317', 'Daporinad'}\n",
      "Stomach: {'RU-SKI 43', 'Ipatasertib', 'Daporinad'}\n",
      "Lung: {'RU-SKI 43', 'Tanespimycin', 'GNE-317'}\n",
      "Breast: {'RU-SKI 43', 'Tanespimycin', 'Daporinad'}\n"
     ]
    }
   ],
   "source": [
    "print(f\"Colon: {colo_set.difference(common_set)}\")\n",
    "print(f\"Stomach: {stomach_set.difference(common_set)}\")\n",
    "print(f\"Lung: {lung_set.difference(common_set)}\")\n",
    "print(f\"Breast: {breast_set.difference(common_set)}\")"
   ]
  },
  {
   "attachments": {},
   "cell_type": "markdown",
   "metadata": {},
   "source": [
    "## Test type-specific drugs Across Cancer Types"
   ]
  },
  {
   "attachments": {},
   "cell_type": "markdown",
   "metadata": {},
   "source": [
    "Gefitinib Lung Cancer-specific"
   ]
  },
  {
   "cell_type": "code",
   "execution_count": 31,
   "metadata": {},
   "outputs": [],
   "source": [
    "gefitinib_entry = [\"_\".join((i, \"gefitinib\")) for i in ds.celline_barcode]"
   ]
  },
  {
   "cell_type": "code",
   "execution_count": 32,
   "metadata": {},
   "outputs": [
    {
     "name": "stderr",
     "output_type": "stream",
     "text": [
      "100%|██████████| 2/2 [00:01<00:00,  1.71it/s]\n"
     ]
    }
   ],
   "source": [
    "gefitinib_df = make_predict(model=model, candidate = gefitinib_entry, ds=ds, batch_size=64)"
   ]
  },
  {
   "cell_type": "code",
   "execution_count": 33,
   "metadata": {},
   "outputs": [],
   "source": [
    "lung_ccl = model_list[(model_list['tissue'] == 'Lung') & \n",
    "                (model_list['tissue_status'] == 'Tumour')]['model_name']"
   ]
  },
  {
   "cell_type": "code",
   "execution_count": 34,
   "metadata": {},
   "outputs": [
    {
     "data": {
      "text/html": [
       "<div>\n",
       "<style scoped>\n",
       "    .dataframe tbody tr th:only-of-type {\n",
       "        vertical-align: middle;\n",
       "    }\n",
       "\n",
       "    .dataframe tbody tr th {\n",
       "        vertical-align: top;\n",
       "    }\n",
       "\n",
       "    .dataframe thead th {\n",
       "        text-align: right;\n",
       "    }\n",
       "</style>\n",
       "<table border=\"1\" class=\"dataframe\">\n",
       "  <thead>\n",
       "    <tr style=\"text-align: right;\">\n",
       "      <th></th>\n",
       "      <th>Sensitivity</th>\n",
       "      <th>DRUG_NAME</th>\n",
       "      <th>CELL_LINE</th>\n",
       "    </tr>\n",
       "  </thead>\n",
       "  <tbody>\n",
       "    <tr>\n",
       "      <th>11</th>\n",
       "      <td>0.702682</td>\n",
       "      <td>gefitinib</td>\n",
       "      <td>HARA</td>\n",
       "    </tr>\n",
       "    <tr>\n",
       "      <th>47</th>\n",
       "      <td>0.868806</td>\n",
       "      <td>gefitinib</td>\n",
       "      <td>SW1573</td>\n",
       "    </tr>\n",
       "    <tr>\n",
       "      <th>75</th>\n",
       "      <td>0.623716</td>\n",
       "      <td>gefitinib</td>\n",
       "      <td>EKVX</td>\n",
       "    </tr>\n",
       "    <tr>\n",
       "      <th>76</th>\n",
       "      <td>0.642385</td>\n",
       "      <td>gefitinib</td>\n",
       "      <td>SW1271</td>\n",
       "    </tr>\n",
       "    <tr>\n",
       "      <th>95</th>\n",
       "      <td>0.497785</td>\n",
       "      <td>gefitinib</td>\n",
       "      <td>A549</td>\n",
       "    </tr>\n",
       "  </tbody>\n",
       "</table>\n",
       "</div>"
      ],
      "text/plain": [
       "    Sensitivity  DRUG_NAME CELL_LINE\n",
       "11     0.702682  gefitinib      HARA\n",
       "47     0.868806  gefitinib    SW1573\n",
       "75     0.623716  gefitinib      EKVX\n",
       "76     0.642385  gefitinib    SW1271\n",
       "95     0.497785  gefitinib      A549"
      ]
     },
     "execution_count": 34,
     "metadata": {},
     "output_type": "execute_result"
    }
   ],
   "source": [
    "gefitinib_df[gefitinib_df['CELL_LINE'].isin(lung_ccl)]"
   ]
  },
  {
   "attachments": {},
   "cell_type": "markdown",
   "metadata": {},
   "source": [
    "## PRISM Holdout Validation"
   ]
  },
  {
   "cell_type": "code",
   "execution_count": 37,
   "metadata": {},
   "outputs": [],
   "source": [
    "import pandas as pd\n",
    "import numpy as np\n",
    "from model.data import Dataset"
   ]
  },
  {
   "cell_type": "code",
   "execution_count": 36,
   "metadata": {},
   "outputs": [],
   "source": [
    "prism = pd.read_csv('data/PRISM/secondary-screen-dose-response-curve-parameters.csv', low_memory=False)"
   ]
  },
  {
   "cell_type": "code",
   "execution_count": 37,
   "metadata": {},
   "outputs": [
    {
     "data": {
      "text/plain": [
       "0.33330    0.172789\n",
       "0.66666    0.203854\n",
       "0.90000    0.272822\n",
       "Name: auc, dtype: float64"
      ]
     },
     "execution_count": 37,
     "metadata": {},
     "output_type": "execute_result"
    }
   ],
   "source": [
    "import matplotlib.pyplot as plt\n",
    "from sklearn.preprocessing import minmax_scale\n",
    "prism['auc'] = minmax_scale(X=prism['auc'])\n",
    "prism['auc'].quantile([0.3333, 0.66666, 0.9]) # threshold = 0.1728"
   ]
  },
  {
   "cell_type": "code",
   "execution_count": 38,
   "metadata": {},
   "outputs": [],
   "source": [
    "prism_drug = pd.DataFrame()\n",
    "prism_drug['DRUG_NAME'] = prism['name']\n",
    "prism_drug['CanonicalSMILES'] = prism['smiles']\n",
    "prism_drug.drop_duplicates(subset='DRUG_NAME', keep='first', inplace=True)\n",
    "prism_drug.reset_index(inplace=True, drop=True)\n",
    "prism_drug_overlapped = list(set(prism_drug['DRUG_NAME']).intersection(set(ds.drug_info.all_drugs.index)))"
   ]
  },
  {
   "cell_type": "code",
   "execution_count": 39,
   "metadata": {},
   "outputs": [],
   "source": [
    "prism['ccle_name'] = [str(i).split(\"_\")[0] for i in prism['ccle_name']]"
   ]
  },
  {
   "cell_type": "code",
   "execution_count": 40,
   "metadata": {},
   "outputs": [],
   "source": [
    "prism_experiment = prism[(prism['ccle_name'].isin(ds.celline_barcode))&(prism['name'].isin(prism_drug_overlapped))].reset_index(drop=True)"
   ]
  },
  {
   "cell_type": "code",
   "execution_count": 41,
   "metadata": {},
   "outputs": [],
   "source": [
    "experiment_id = [\"_\".join((str(i), j)) for i,j in zip(prism_experiment['ccle_name'], prism_experiment['name'])]"
   ]
  },
  {
   "cell_type": "code",
   "execution_count": 42,
   "metadata": {},
   "outputs": [],
   "source": [
    "experiment_df = pd.DataFrame()\n",
    "experiment_df['SAMPLE_BARCODE'] = experiment_id\n",
    "experiment_df['AUC'] = prism_experiment['auc']\n",
    "experiment_df['LABELS'] = [1 if i<0.17 else 0 for i in prism_experiment['auc'] ]\n"
   ]
  },
  {
   "cell_type": "code",
   "execution_count": 43,
   "metadata": {},
   "outputs": [],
   "source": [
    "experiment_candidate_prism = list(set(experiment_df['SAMPLE_BARCODE']).difference(train))"
   ]
  },
  {
   "cell_type": "code",
   "execution_count": 44,
   "metadata": {},
   "outputs": [
    {
     "data": {
      "text/plain": [
       "4422"
      ]
     },
     "execution_count": 44,
     "metadata": {},
     "output_type": "execute_result"
    }
   ],
   "source": [
    "len(experiment_candidate_prism)"
   ]
  },
  {
   "cell_type": "code",
   "execution_count": 45,
   "metadata": {},
   "outputs": [
    {
     "name": "stderr",
     "output_type": "stream",
     "text": [
      "100%|██████████| 70/70 [00:44<00:00,  1.56it/s]\n"
     ]
    }
   ],
   "source": [
    "pred_df = make_predict(model=model, candidate=experiment_candidate_prism, ds=ds, batch_size=64)"
   ]
  },
  {
   "cell_type": "code",
   "execution_count": 46,
   "metadata": {},
   "outputs": [],
   "source": [
    "ref = experiment_df[experiment_df['SAMPLE_BARCODE'].isin(experiment_candidate_prism)].drop_duplicates(subset='SAMPLE_BARCODE')\n",
    "pred_df[\"SAMPLE_BARCODE\"] = [\"_\".join((i,j)) for i,j in zip(pred_df['CELL_LINE'], pred_df['DRUG_NAME'])]\n",
    "pred_df = pred_df.join(ref.set_index('SAMPLE_BARCODE'), on='SAMPLE_BARCODE')"
   ]
  },
  {
   "cell_type": "code",
   "execution_count": 47,
   "metadata": {},
   "outputs": [],
   "source": [
    "pred_df['LABELS_PRED'] = [1 if i>=0.5 else 0 for i in pred_df['Sensitivity']]"
   ]
  },
  {
   "cell_type": "code",
   "execution_count": 48,
   "metadata": {},
   "outputs": [
    {
     "data": {
      "text/plain": [
       "<sklearn.metrics._plot.precision_recall_curve.PrecisionRecallDisplay at 0x17cdddd80>"
      ]
     },
     "execution_count": 48,
     "metadata": {},
     "output_type": "execute_result"
    },
    {
     "data": {
      "image/png": "[encoded data removed]",
      "text/plain": [
       "<Figure size 640x480 with 1 Axes>"
      ]
     },
     "metadata": {},
     "output_type": "display_data"
    }
   ],
   "source": [
    "from sklearn.metrics import ConfusionMatrixDisplay, RocCurveDisplay, PrecisionRecallDisplay\n",
    "from sklearn.metrics import confusion_matrix\n",
    "\n",
    "PrecisionRecallDisplay.from_predictions(y_true=list(pred_df['LABELS']), y_pred=list(pred_df['Sensitivity']))"
   ]
  },
  {
   "cell_type": "code",
   "execution_count": 49,
   "metadata": {},
   "outputs": [
    {
     "data": {
      "text/plain": [
       "<sklearn.metrics._plot.roc_curve.RocCurveDisplay at 0x16d10c040>"
      ]
     },
     "execution_count": 49,
     "metadata": {},
     "output_type": "execute_result"
    },
    {
     "data": {
      "image/png": "[encoded data removed]",
      "text/plain": [
       "<Figure size 640x480 with 1 Axes>"
      ]
     },
     "metadata": {},
     "output_type": "display_data"
    }
   ],
   "source": [
    "RocCurveDisplay.from_predictions(y_true=list(pred_df['LABELS']), y_pred=list(pred_df['Sensitivity']))"
   ]
  },
  {
   "cell_type": "code",
   "execution_count": 50,
   "metadata": {},
   "outputs": [
    {
     "data": {
      "text/plain": [
       "<sklearn.metrics._plot.confusion_matrix.ConfusionMatrixDisplay at 0x16e170940>"
      ]
     },
     "execution_count": 50,
     "metadata": {},
     "output_type": "execute_result"
    },
    {
     "data": {
      "image/png": "[encoded data removed]",
      "text/plain": [
       "<Figure size 640x480 with 2 Axes>"
      ]
     },
     "metadata": {},
     "output_type": "display_data"
    }
   ],
   "source": [
    "cm = confusion_matrix(y_true=list(pred_df['LABELS']), y_pred=list(pred_df['LABELS_PRED']))\n",
    "disp=ConfusionMatrixDisplay(confusion_matrix=cm, display_labels=[0,1])\n",
    "disp.plot(cmap=plt.cm.Blues)\n"
   ]
  },
  {
   "attachments": {},
   "cell_type": "markdown",
   "metadata": {},
   "source": [
    "## SVM and GBDT"
   ]
  },
  {
   "cell_type": "code",
   "execution_count": 18,
   "metadata": {},
   "outputs": [],
   "source": [
    "import numpy as np\n",
    "import pandas as pd\n",
    "import seaborn as sns\n",
    "import matplotlib.pyplot as plt\n",
    "from sklearn.ensemble import RandomForestClassifier \n",
    "from model.data import Dataset\n",
    "from model.nn import CalculateSimilarity"
   ]
  },
  {
   "cell_type": "code",
   "execution_count": 4,
   "metadata": {},
   "outputs": [
    {
     "name": "stdout",
     "output_type": "stream",
     "text": [
      "Loading Copy Number Abberation Data...\n",
      "Loading Copy Number Abberation Data Done\n",
      "Begin loading drug data...\n",
      "After filtering, GDSC has tested 477 drugs; CTRP has tested 425 drugs\n",
      "After combining, unique cid number is 792\n"
     ]
    },
    {
     "name": "stderr",
     "output_type": "stream",
     "text": [
      "  0%|          | 0/792 [00:00<?, ?it/s]/Users/sunzehui/miniconda3/envs/tf/lib/python3.10/site-packages/scipy/_lib/_util.py:69: RuntimeWarning: overflow encountered in _ncx2_cdf\n",
      "  np.place(out, cond, f(*temp))\n",
      "/Users/sunzehui/miniconda3/envs/tf/lib/python3.10/site-packages/scipy/stats/_continuous_distns.py:6630: RuntimeWarning: overflow encountered in _ncf_cdf\n",
      "  return _boost._ncf_cdf(x, dfn, dfd, nc)\n",
      "  0%|          | 2/792 [00:00<01:34,  8.36it/s]/Users/sunzehui/miniconda3/envs/tf/lib/python3.10/site-packages/scipy/stats/_continuous_distns.py:6826: RuntimeWarning: overflow encountered in _nct_cdf\n",
      "  return np.clip(_boost._nct_cdf(x, df, nc), 0, 1)\n",
      "100%|██████████| 792/792 [01:17<00:00, 10.24it/s]\n"
     ]
    },
    {
     "name": "stdout",
     "output_type": "stream",
     "text": [
      "Drug data loaded\n",
      "Loading CTRP Experiment Data...\n",
      "Loading Experiment Data Done\n",
      "Begin Preprocessing Experiment!\n",
      "Select Overlapping Cellines...\n",
      "Index(['DRUG_NAME', 'SMILES', 'CELL_LINE_NAME', 'AUC', 'DATASET'], dtype='object')\n",
      "Select Overlapping Cellines with available PubChem CIDs...\n",
      "Create Unique Sample Barcode...\n",
      "Exclude response value...\n",
      "Experiment Done!\n",
      "Preparing Omics data...\n",
      "Omics data Done!\n",
      "We have 40302 samples in dataset...\n"
     ]
    }
   ],
   "source": [
    "ds = Dataset(dataset='CTRP', feature_contained=['cnv'])"
   ]
  },
  {
   "cell_type": "code",
   "execution_count": 10,
   "metadata": {},
   "outputs": [],
   "source": [
    "paritition = ds.split(data=ds.sample_barcode, validation=True)\n",
    "feature = prepare(candidate=paritition['train'])"
   ]
  },
  {
   "cell_type": "code",
   "execution_count": 29,
   "metadata": {},
   "outputs": [],
   "source": [
    "test_feature = prepare(candidate=paritition['test'])"
   ]
  },
  {
   "cell_type": "code",
   "execution_count": 15,
   "metadata": {},
   "outputs": [],
   "source": [
    "from functools import reduce\n",
    "import numpy as np\n",
    "feature = reduce(lambda x,y: np.append(x,y,axis=1), feature.values())\n",
    "test_feature = reduce(lambda x,y: np.append(x,y,axis=1), test_feature.values())"
   ]
  },
  {
   "cell_type": "code",
   "execution_count": 25,
   "metadata": {},
   "outputs": [],
   "source": [
    "labels = np.array([[ds.labels[i]] for i in paritition['train']]).ravel()\n",
    "test_y = np.array([[ds.labels[i]] for i in paritition['test']]).ravel()"
   ]
  },
  {
   "cell_type": "code",
   "execution_count": 28,
   "metadata": {},
   "outputs": [
    {
     "data": {
      "text/html": [
       "<style>#sk-container-id-1 {color: black;background-color: white;}#sk-container-id-1 pre{padding: 0;}#sk-container-id-1 div.sk-toggleable {background-color: white;}#sk-container-id-1 label.sk-toggleable__label {cursor: pointer;display: block;width: 100%;margin-bottom: 0;padding: 0.3em;box-sizing: border-box;text-align: center;}#sk-container-id-1 label.sk-toggleable__label-arrow:before {content: \"▸\";float: left;margin-right: 0.25em;color: #696969;}#sk-container-id-1 label.sk-toggleable__label-arrow:hover:before {color: black;}#sk-container-id-1 div.sk-estimator:hover label.sk-toggleable__label-arrow:before {color: black;}#sk-container-id-1 div.sk-toggleable__content {max-height: 0;max-width: 0;overflow: hidden;text-align: left;background-color: #f0f8ff;}#sk-container-id-1 div.sk-toggleable__content pre {margin: 0.2em;color: black;border-radius: 0.25em;background-color: #f0f8ff;}#sk-container-id-1 input.sk-toggleable__control:checked~div.sk-toggleable__content {max-height: 200px;max-width: 100%;overflow: auto;}#sk-container-id-1 input.sk-toggleable__control:checked~label.sk-toggleable__label-arrow:before {content: \"▾\";}#sk-container-id-1 div.sk-estimator input.sk-toggleable__control:checked~label.sk-toggleable__label {background-color: #d4ebff;}#sk-container-id-1 div.sk-label input.sk-toggleable__control:checked~label.sk-toggleable__label {background-color: #d4ebff;}#sk-container-id-1 input.sk-hidden--visually {border: 0;clip: rect(1px 1px 1px 1px);clip: rect(1px, 1px, 1px, 1px);height: 1px;margin: -1px;overflow: hidden;padding: 0;position: absolute;width: 1px;}#sk-container-id-1 div.sk-estimator {font-family: monospace;background-color: #f0f8ff;border: 1px dotted black;border-radius: 0.25em;box-sizing: border-box;margin-bottom: 0.5em;}#sk-container-id-1 div.sk-estimator:hover {background-color: #d4ebff;}#sk-container-id-1 div.sk-parallel-item::after {content: \"\";width: 100%;border-bottom: 1px solid gray;flex-grow: 1;}#sk-container-id-1 div.sk-label:hover label.sk-toggleable__label {background-color: #d4ebff;}#sk-container-id-1 div.sk-serial::before {content: \"\";position: absolute;border-left: 1px solid gray;box-sizing: border-box;top: 0;bottom: 0;left: 50%;z-index: 0;}#sk-container-id-1 div.sk-serial {display: flex;flex-direction: column;align-items: center;background-color: white;padding-right: 0.2em;padding-left: 0.2em;position: relative;}#sk-container-id-1 div.sk-item {position: relative;z-index: 1;}#sk-container-id-1 div.sk-parallel {display: flex;align-items: stretch;justify-content: center;background-color: white;position: relative;}#sk-container-id-1 div.sk-item::before, #sk-container-id-1 div.sk-parallel-item::before {content: \"\";position: absolute;border-left: 1px solid gray;box-sizing: border-box;top: 0;bottom: 0;left: 50%;z-index: -1;}#sk-container-id-1 div.sk-parallel-item {display: flex;flex-direction: column;z-index: 1;position: relative;background-color: white;}#sk-container-id-1 div.sk-parallel-item:first-child::after {align-self: flex-end;width: 50%;}#sk-container-id-1 div.sk-parallel-item:last-child::after {align-self: flex-start;width: 50%;}#sk-container-id-1 div.sk-parallel-item:only-child::after {width: 0;}#sk-container-id-1 div.sk-dashed-wrapped {border: 1px dashed gray;margin: 0 0.4em 0.5em 0.4em;box-sizing: border-box;padding-bottom: 0.4em;background-color: white;}#sk-container-id-1 div.sk-label label {font-family: monospace;font-weight: bold;display: inline-block;line-height: 1.2em;}#sk-container-id-1 div.sk-label-container {text-align: center;}#sk-container-id-1 div.sk-container {/* jupyter's `normalize.less` sets `[hidden] { display: none; }` but bootstrap.min.css set `[hidden] { display: none !important; }` so we also need the `!important` here to be able to override the default hidden behavior on the sphinx rendered scikit-learn.org. See: https://github.com/scikit-learn/scikit-learn/issues/21755 */display: inline-block !important;position: relative;}#sk-container-id-1 div.sk-text-repr-fallback {display: none;}</style><div id=\"sk-container-id-1\" class=\"sk-top-container\"><div class=\"sk-text-repr-fallback\"><pre>RandomForestClassifier()</pre><b>In a Jupyter environment, please rerun this cell to show the HTML representation or trust the notebook. <br />On GitHub, the HTML representation is unable to render, please try loading this page with nbviewer.org.</b></div><div class=\"sk-container\" hidden><div class=\"sk-item\"><div class=\"sk-estimator sk-toggleable\"><input class=\"sk-toggleable__control sk-hidden--visually\" id=\"sk-estimator-id-1\" type=\"checkbox\" checked><label for=\"sk-estimator-id-1\" class=\"sk-toggleable__label sk-toggleable__label-arrow\">RandomForestClassifier</label><div class=\"sk-toggleable__content\"><pre>RandomForestClassifier()</pre></div></div></div></div></div>"
      ],
      "text/plain": [
       "RandomForestClassifier()"
      ]
     },
     "execution_count": 28,
     "metadata": {},
     "output_type": "execute_result"
    }
   ],
   "source": [
    "clf = RandomForestClassifier()\n",
    "clf.fit(feature, labels)"
   ]
  },
  {
   "cell_type": "code",
   "execution_count": 34,
   "metadata": {},
   "outputs": [],
   "source": [
    "pred_y = clf.predict(X = test_feature)"
   ]
  },
  {
   "cell_type": "code",
   "execution_count": 35,
   "metadata": {},
   "outputs": [
    {
     "data": {
      "text/plain": [
       "<sklearn.metrics._plot.confusion_matrix.ConfusionMatrixDisplay at 0x293039d80>"
      ]
     },
     "execution_count": 35,
     "metadata": {},
     "output_type": "execute_result"
    },
    {
     "data": {
      "image/png": "[encoded data removed]",
      "text/plain": [
       "<Figure size 640x480 with 2 Axes>"
      ]
     },
     "metadata": {},
     "output_type": "display_data"
    }
   ],
   "source": [
    "from sklearn.metrics import ConfusionMatrixDisplay, RocCurveDisplay, PrecisionRecallDisplay\n",
    "from sklearn.metrics import confusion_matrix\n",
    "\n",
    "cm = confusion_matrix(y_true=test_y, y_pred=pred_y)\n",
    "disp=ConfusionMatrixDisplay(confusion_matrix=cm, display_labels=[0,1])\n",
    "disp.plot(cmap=plt.cm.Blues)"
   ]
  },
  {
   "cell_type": "code",
   "execution_count": 39,
   "metadata": {},
   "outputs": [
    {
     "data": {
      "text/plain": [
       "<sklearn.metrics._plot.precision_recall_curve.PrecisionRecallDisplay at 0x293918d60>"
      ]
     },
     "execution_count": 39,
     "metadata": {},
     "output_type": "execute_result"
    },
    {
     "data": {
      "image/png": "[encoded data removed]",
      "text/plain": [
       "<Figure size 640x480 with 1 Axes>"
      ]
     },
     "metadata": {},
     "output_type": "display_data"
    }
   ],
   "source": [
    "PrecisionRecallDisplay.from_predictions(y_true=test_y, y_pred=pred_y,)"
   ]
  },
  {
   "attachments": {},
   "cell_type": "markdown",
   "metadata": {},
   "source": [
    "## Consensus Clustering"
   ]
  },
  {
   "cell_type": "code",
   "execution_count": 3,
   "metadata": {},
   "outputs": [],
   "source": [
    "ds.omics_data['cnv'].to_csv(\"data_visual/cnv.csv\")\n",
    "ds.omics_data['gene_expression'].to_csv('data_visual/gene_expression.csv')\n",
    "ds.omics_data['methylation'].to_csv('data_visual/methylation.csv')\n",
    "ds.omics_data['mutation'].to_csv('data_visual/mutation.csv')"
   ]
  },
  {
   "cell_type": "code",
   "execution_count": 33,
   "metadata": {},
   "outputs": [
    {
     "data": {
      "text/plain": [
       "<tensorflow.python.saved_model.load.Loader._recreate_base_user_object.<locals>._UserObject at 0x2d2151d50>"
      ]
     },
     "execution_count": 33,
     "metadata": {},
     "output_type": "execute_result"
    }
   ],
   "source": [
    "_model_.get"
   ]
  },
  {
   "cell_type": "code",
   "execution_count": 51,
   "metadata": {},
   "outputs": [],
   "source": [
    "model.encoded_feature.clear()"
   ]
  },
  {
   "cell_type": "code",
   "execution_count": 52,
   "metadata": {},
   "outputs": [],
   "source": [
    "import keras\n",
    "from tensorflow.python.keras.engine import keras_tensor\n",
    "\n",
    "temp = []\n",
    "for i in range(len(ds.omics_data['cnv'])):\n",
    "    temp.append({\n",
    "        'fingerprint': np.zeros(shape=(1,881)),\n",
    "        'rdkit2d': np.zeros(shape=(1,200,)),\n",
    "        'cnv': ds.omics_data['cnv'].iloc[i].values,\n",
    "        'gene_expression': ds.omics_data['gene_expression'].iloc[i].values,\n",
    "        'mutation': ds.omics_data['mutation'].iloc[i].values,\n",
    "        'methylation': ds.omics_data['methylation'].iloc[i].values, \n",
    "    })\n",
    "for i in temp:\n",
    "    model.__call__(inputs = i, training=False)\n",
    "    "
   ]
  },
  {
   "cell_type": "code",
   "execution_count": 75,
   "metadata": {},
   "outputs": [],
   "source": [
    "encoded_feature = np.stack([ model.encoded_feature[i][0][256:] for i in range(len(ds.omics_data['cnv']))])"
   ]
  },
  {
   "cell_type": "code",
   "execution_count": 77,
   "metadata": {},
   "outputs": [],
   "source": [
    "ccl_encoded = pd.DataFrame(data=encoded_feature, index=ds.omics_data['cnv'].index)"
   ]
  },
  {
   "cell_type": "code",
   "execution_count": 80,
   "metadata": {},
   "outputs": [],
   "source": [
    "ccl_encoded.to_csv(\"ccl_encoded.csv\")"
   ]
  }
 ],
 "metadata": {
  "kernelspec": {
   "display_name": "tf",
   "language": "python",
   "name": "python3"
  },
  "language_info": {
   "codemirror_mode": {
    "name": "ipython",
    "version": 3
   },
   "file_extension": ".py",
   "mimetype": "text/x-python",
   "name": "python",
   "nbconvert_exporter": "python",
   "pygments_lexer": "ipython3",
   "version": "3.10.10"
  },
  "orig_nbformat": 4
 },
 "nbformat": 4,
 "nbformat_minor": 2
}
